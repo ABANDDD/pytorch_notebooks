{
 "cells": [
  {
   "cell_type": "markdown",
   "metadata": {},
   "source": [
    "## tiny mnist classifier ##\n",
    "\n",
    "model is simple 2 layer convnet with < 100k params. nothing special or amazing.\n",
    "\n",
    "default mnist: 99.22% test accuracy\n",
    "\n",
    "[fashion](https://github.com/zalandoresearch/fashion-mnist/blob/master/README.md) drop-in replcement for mnist: 92.47%"
   ]
  },
  {
   "cell_type": "code",
   "execution_count": 1,
   "metadata": {},
   "outputs": [],
   "source": [
    "import numpy as np\n",
    "\n",
    "import torch\n",
    "import torch.nn as nn\n",
    "import torch.nn.functional as F\n",
    "import torch.optim as optim\n",
    "\n",
    "from torchvision import datasets, transforms\n",
    "from torch.autograd import Variable\n",
    "from collections import namedtuple\n",
    "\n",
    "from matplotlib import pyplot as plt\n",
    "from PIL import Image\n",
    "\n",
    "import os\n",
    "import os.path\n",
    "import errno\n",
    "import codecs\n",
    "import copy"
   ]
  },
  {
   "cell_type": "code",
   "execution_count": 2,
   "metadata": {},
   "outputs": [
    {
     "data": {
      "text/plain": [
       "<torch._C.Generator at 0x7f305411b138>"
      ]
     },
     "execution_count": 2,
     "metadata": {},
     "output_type": "execute_result"
    }
   ],
   "source": [
    "np.random.seed(1)\n",
    "torch.manual_seed(1)"
   ]
  },
  {
   "cell_type": "code",
   "execution_count": 3,
   "metadata": {
    "collapsed": true
   },
   "outputs": [],
   "source": [
    "class MNIST(torch.utils.data.Dataset):\n",
    "  \"\"\"`MNIST <http://yann.lecun.com/exdb/mnist/>`_ Dataset.\n",
    "  Args:\n",
    "    root (string): Root directory of dataset where ``processed/training.pt``\n",
    "      and  ``processed/test.pt`` exist.\n",
    "    dataset (string): If `train`, create dataset from ``training.pt``,\n",
    "      otherwise from ``test.pt``.\n",
    "    download (bool, optional): If true, downloads the dataset from the internet and\n",
    "      puts it in root directory. If dataset is already downloaded, it is not\n",
    "      downloaded again.\n",
    "    transform (callable, optional): A function/transform that  takes in an PIL image\n",
    "      and returns a transformed version. E.g, ``transforms.RandomCrop``\n",
    "    target_transform (callable, optional): A function/transform that takes in the\n",
    "      target and transforms it.\n",
    "  \"\"\"\n",
    "  mnist_base_url = 'http://yann.lecun.com/exdb/mnist/'\n",
    "  fasion_base_url = 'https://cdn.rawgit.com/zalandoresearch/fashion-mnist/ed8e4f3b/data/fashion/'\n",
    "  #base_url = mnist_base_url # change one line to change datasets\n",
    "  base_url = fasion_base_url\n",
    "  urls = [\n",
    "    base_url+'train-images-idx3-ubyte.gz',\n",
    "    base_url+'train-labels-idx1-ubyte.gz',\n",
    "    base_url+'t10k-images-idx3-ubyte.gz',\n",
    "    base_url+'t10k-labels-idx1-ubyte.gz',\n",
    "  ]\n",
    "  raw_folder = 'raw'\n",
    "  processed_folder = 'processed'\n",
    "  training_file = 'training.pt'\n",
    "  test_file = 'test.pt'\n",
    "\n",
    "  def __init__(self, root, dataset='train', transform=None, target_transform=None, download=False, force_download=False):\n",
    "    self.root = os.path.expanduser(root)\n",
    "    self.transform = transform\n",
    "    self.target_transform = target_transform\n",
    "    self.dataset = dataset  # 'train' or 'test'\n",
    "    \n",
    "    self.force_download = force_download # if True, will download dataset everytime no matter what.\n",
    "\n",
    "    if download:\n",
    "      self.download()\n",
    "\n",
    "    if not self._check_exists():\n",
    "      raise RuntimeError('Dataset not found.' +\n",
    "                        ' You can use download=True to download it')\n",
    "\n",
    "    if self.dataset == 'train':\n",
    "      self.data, self.labels = torch.load(os.path.join(root, self.processed_folder, self.training_file))\n",
    "    else:\n",
    "      self.data, self.labels = torch.load(os.path.join(root, self.processed_folder, self.test_file))\n",
    "\n",
    "  def __getitem__(self, index):\n",
    "      \"\"\"\n",
    "      Args:\n",
    "        index (int): Index\n",
    "      Returns:\n",
    "        tuple: (image, target) where target is index of the target class.\n",
    "      \"\"\"\n",
    "      img, target = self.data[index], self.labels[index]\n",
    "\n",
    "      # doing this so that it is consistent with all other datasets\n",
    "      # to return a PIL Image\n",
    "      img = Image.fromarray(img.numpy(), mode='L')\n",
    "\n",
    "      if self.transform is not None:\n",
    "        img = self.transform(img)\n",
    "\n",
    "      if self.target_transform is not None:\n",
    "        target = self.target_transform(target)\n",
    "\n",
    "      return img, target\n",
    "\n",
    "  def __len__(self):\n",
    "    return len(self.data)\n",
    "\n",
    "  def _check_exists(self):\n",
    "    return os.path.exists(os.path.join(self.root, self.processed_folder, self.training_file)) and \\\n",
    "      os.path.exists(os.path.join(self.root, self.processed_folder, self.test_file))\n",
    "\n",
    "  def download(self):\n",
    "    \"\"\"Download the MNIST data if it doesn't exist in processed_folder already.\"\"\"\n",
    "    from six.moves import urllib\n",
    "    import gzip\n",
    "\n",
    "    if self._check_exists() and (not self.force_download):\n",
    "      return\n",
    "\n",
    "    # download files\n",
    "    try:\n",
    "      os.makedirs(os.path.join(self.root, self.raw_folder))\n",
    "      os.makedirs(os.path.join(self.root, self.processed_folder))\n",
    "    except OSError as e:\n",
    "      if e.errno == errno.EEXIST:\n",
    "        pass\n",
    "      else:\n",
    "        raise\n",
    "\n",
    "    for url in self.urls:\n",
    "      print('Downloading ' + url)\n",
    "      data = urllib.request.urlopen(url)\n",
    "      filename = url.rpartition('/')[2]\n",
    "      file_path = os.path.join(self.root, self.raw_folder, filename)\n",
    "      with open(file_path, 'wb') as f:\n",
    "          f.write(data.read())\n",
    "      with open(file_path.replace('.gz', ''), 'wb') as out_f, \\\n",
    "              gzip.GzipFile(file_path) as zip_f:\n",
    "          out_f.write(zip_f.read())\n",
    "      os.unlink(file_path)\n",
    "\n",
    "    # process and save as torch files\n",
    "    print('Processing...')\n",
    "\n",
    "    training_set = (\n",
    "      read_image_file(os.path.join(self.root, self.raw_folder, 'train-images-idx3-ubyte')),\n",
    "      read_label_file(os.path.join(self.root, self.raw_folder, 'train-labels-idx1-ubyte'))\n",
    "    )\n",
    "    test_set = (\n",
    "      read_image_file(os.path.join(self.root, self.raw_folder, 't10k-images-idx3-ubyte')),\n",
    "      read_label_file(os.path.join(self.root, self.raw_folder, 't10k-labels-idx1-ubyte'))\n",
    "    )\n",
    "    with open(os.path.join(self.root, self.processed_folder, self.training_file), 'wb') as f:\n",
    "      torch.save(training_set, f)\n",
    "    with open(os.path.join(self.root, self.processed_folder, self.test_file), 'wb') as f:\n",
    "      torch.save(test_set, f)\n",
    "\n",
    "    print('Done!')\n",
    "\n",
    "\n",
    "def get_int(b):\n",
    "  return int(codecs.encode(b, 'hex'), 16)\n",
    "\n",
    "\n",
    "def parse_byte(b):\n",
    "  if isinstance(b, str):\n",
    "    return ord(b)\n",
    "  return b\n",
    "\n",
    "\n",
    "def read_label_file(path):\n",
    "  with open(path, 'rb') as f:\n",
    "    data = f.read()\n",
    "    assert get_int(data[:4]) == 2049\n",
    "    length = get_int(data[4:8])\n",
    "    labels = [parse_byte(b) for b in data[8:]]\n",
    "    assert len(labels) == length\n",
    "    return torch.LongTensor(labels)\n",
    "\n",
    "\n",
    "def read_image_file(path):\n",
    "  with open(path, 'rb') as f:\n",
    "    data = f.read()\n",
    "    assert get_int(data[:4]) == 2051\n",
    "    length = get_int(data[4:8])\n",
    "    num_rows = get_int(data[8:12])\n",
    "    num_cols = get_int(data[12:16])\n",
    "    images = []\n",
    "    idx = 16\n",
    "    for l in range(length):\n",
    "      img = []\n",
    "      images.append(img)\n",
    "      for r in range(num_rows):\n",
    "        row = []\n",
    "        img.append(row)\n",
    "        for c in range(num_cols):\n",
    "          row.append(parse_byte(data[idx]))\n",
    "          idx += 1\n",
    "    assert len(images) == length\n",
    "    return torch.ByteTensor(images).view(-1, 28, 28)\n"
   ]
  },
  {
   "cell_type": "code",
   "execution_count": 4,
   "metadata": {
    "collapsed": true
   },
   "outputs": [],
   "source": [
    "Args = namedtuple('Args', ['batch_size', 'test_batch_size', 'epochs', 'lr', 'cuda', 'seed', 'log_interval'])"
   ]
  },
  {
   "cell_type": "code",
   "execution_count": 5,
   "metadata": {
    "collapsed": true
   },
   "outputs": [],
   "source": [
    "args = Args(batch_size=1000, test_batch_size=1000, epochs=30, lr=0.001, cuda=True, seed=0, log_interval=10)"
   ]
  },
  {
   "cell_type": "code",
   "execution_count": 6,
   "metadata": {
    "collapsed": true
   },
   "outputs": [],
   "source": [
    "torch.manual_seed(args.seed)\n",
    "if args.cuda:\n",
    "  torch.cuda.manual_seed(args.seed)"
   ]
  },
  {
   "cell_type": "code",
   "execution_count": 7,
   "metadata": {
    "collapsed": true
   },
   "outputs": [],
   "source": [
    "kwargs = {'num_workers': 1, 'pin_memory': True} if args.cuda else {}"
   ]
  },
  {
   "cell_type": "code",
   "execution_count": 8,
   "metadata": {},
   "outputs": [
    {
     "name": "stdout",
     "output_type": "stream",
     "text": [
      "Downloading https://cdn.rawgit.com/zalandoresearch/fashion-mnist/ed8e4f3b/data/fashion/train-images-idx3-ubyte.gz\n",
      "Downloading https://cdn.rawgit.com/zalandoresearch/fashion-mnist/ed8e4f3b/data/fashion/train-labels-idx1-ubyte.gz\n",
      "Downloading https://cdn.rawgit.com/zalandoresearch/fashion-mnist/ed8e4f3b/data/fashion/t10k-images-idx3-ubyte.gz\n",
      "Downloading https://cdn.rawgit.com/zalandoresearch/fashion-mnist/ed8e4f3b/data/fashion/t10k-labels-idx1-ubyte.gz\n",
      "Processing...\n",
      "Done!\n"
     ]
    }
   ],
   "source": [
    "train_loader = torch.utils.data.DataLoader(\n",
    "  MNIST('MNIST_data', dataset='train', download=True, force_download=True, transform=transforms.Compose([transforms.ToTensor(), transforms.Normalize((0.1307,), (0.3081,))])),\n",
    "  batch_size=args.batch_size, shuffle=True, **kwargs)"
   ]
  },
  {
   "cell_type": "code",
   "execution_count": 9,
   "metadata": {},
   "outputs": [],
   "source": [
    "test_loader = torch.utils.data.DataLoader(\n",
    "  MNIST('MNIST_data', dataset='test', download=False, transform=transforms.Compose([transforms.ToTensor(),transforms.Normalize((0.1307,), (0.3081,))])),\n",
    "  batch_size=args.batch_size, shuffle=True, **kwargs)"
   ]
  },
  {
   "cell_type": "code",
   "execution_count": 10,
   "metadata": {
    "collapsed": true
   },
   "outputs": [],
   "source": [
    "class Net(nn.Module):\n",
    "  def __init__(self):\n",
    "    super(Net, self).__init__()\n",
    "    # input is 28x28\n",
    "    # padding=2 for same padding\n",
    "    self.conv1 = nn.Conv2d(1, 32, 5, padding=2)\n",
    "    # feature map size is 14*14 by pooling\n",
    "    # padding=2 for same padding\n",
    "    self.conv2 = nn.Conv2d(32, 64, 5, padding=2)\n",
    "    # feature map size is 7*7 by pooling\n",
    "    self.fc = nn.Linear(64*7*7, 10)\n",
    "\n",
    "  def forward(self, x):\n",
    "    x = F.max_pool2d(F.relu(self.conv1(x)), 2)\n",
    "    x = F.max_pool2d(F.relu(self.conv2(x)), 2)\n",
    "    x = x.view(-1, 64*7*7)   # reshape Variable\n",
    "    x = self.fc(x)\n",
    "    return F.log_softmax(x)"
   ]
  },
  {
   "cell_type": "code",
   "execution_count": 11,
   "metadata": {
    "collapsed": true
   },
   "outputs": [],
   "source": [
    "model = Net()\n",
    "if args.cuda:\n",
    "  model.cuda()\n",
    "\n",
    "orig_model = copy.deepcopy(model)\n",
    "\n",
    "optimizer = torch.optim.Adam(model.parameters(), lr=args.lr)"
   ]
  },
  {
   "cell_type": "code",
   "execution_count": 12,
   "metadata": {
    "collapsed": true
   },
   "outputs": [],
   "source": [
    "def train(epoch, model, train_loader):\n",
    "  model.train()\n",
    "  for batch_idx, (data, target) in enumerate(train_loader):\n",
    "    if args.cuda:\n",
    "      data, target = data.cuda(), target.cuda()\n",
    "    data, target = Variable(data), Variable(target)\n",
    "    optimizer.zero_grad()\n",
    "    output = model(data)\n",
    "    loss = F.nll_loss(output, target)\n",
    "    loss.backward()\n",
    "    optimizer.step()\n",
    "    if batch_idx % args.log_interval == 0:\n",
    "      print('Train Epoch: {} [{}/{} ({:.0f}%)]\\tLoss: {:.6f}'.format(\n",
    "            epoch, batch_idx * len(data), len(train_loader.dataset),\n",
    "            100. * batch_idx / len(train_loader), loss.data[0]))"
   ]
  },
  {
   "cell_type": "code",
   "execution_count": 13,
   "metadata": {
    "collapsed": true
   },
   "outputs": [],
   "source": [
    "def evaluate(model, test_loader):\n",
    "  model.eval()\n",
    "  test_loss = 0\n",
    "  correct = 0\n",
    "  for data, target in test_loader:\n",
    "    if args.cuda:\n",
    "      data, target = data.cuda(), target.cuda()\n",
    "    data, target = Variable(data, volatile=True), Variable(target)\n",
    "    output = model(data)\n",
    "    test_loss += F.nll_loss(output, target, size_average=False).data[0] # sum up batch loss\n",
    "    pred = output.data.max(1, keepdim=True)[1] # get the index of the max log-probability\n",
    "    correct += pred.eq(target.data.view_as(pred)).cpu().sum()\n",
    "\n",
    "  test_loss /= len(test_loader.dataset)\n",
    "  acc = correct / len(test_loader.dataset)\n",
    "  print('\\nAverage loss: {:.4f}, Accuracy: {}/{} ({:.4f}%)\\n'.format(\n",
    "    test_loss, correct, len(test_loader.dataset),\n",
    "    100. * acc))\n",
    "  return acc"
   ]
  },
  {
   "cell_type": "code",
   "execution_count": 14,
   "metadata": {},
   "outputs": [
    {
     "name": "stdout",
     "output_type": "stream",
     "text": [
      "Train Epoch: 1 [0/60000 (0%)]\tLoss: 2.301235\n",
      "Train Epoch: 1 [10000/60000 (17%)]\tLoss: 0.846406\n",
      "Train Epoch: 1 [20000/60000 (33%)]\tLoss: 0.630566\n",
      "Train Epoch: 1 [30000/60000 (50%)]\tLoss: 0.626907\n",
      "Train Epoch: 1 [40000/60000 (67%)]\tLoss: 0.512379\n",
      "Train Epoch: 1 [50000/60000 (83%)]\tLoss: 0.534668\n",
      "Train Epoch: 2 [0/60000 (0%)]\tLoss: 0.455365\n",
      "Train Epoch: 2 [10000/60000 (17%)]\tLoss: 0.436770\n",
      "Train Epoch: 2 [20000/60000 (33%)]\tLoss: 0.367981\n",
      "Train Epoch: 2 [30000/60000 (50%)]\tLoss: 0.382901\n",
      "Train Epoch: 2 [40000/60000 (67%)]\tLoss: 0.386512\n",
      "Train Epoch: 2 [50000/60000 (83%)]\tLoss: 0.383592\n",
      "Train Epoch: 3 [0/60000 (0%)]\tLoss: 0.395101\n",
      "Train Epoch: 3 [10000/60000 (17%)]\tLoss: 0.349057\n",
      "Train Epoch: 3 [20000/60000 (33%)]\tLoss: 0.358162\n",
      "Train Epoch: 3 [30000/60000 (50%)]\tLoss: 0.370354\n",
      "Train Epoch: 3 [40000/60000 (67%)]\tLoss: 0.323364\n",
      "Train Epoch: 3 [50000/60000 (83%)]\tLoss: 0.344763\n",
      "Train Epoch: 4 [0/60000 (0%)]\tLoss: 0.300676\n",
      "Train Epoch: 4 [10000/60000 (17%)]\tLoss: 0.326958\n",
      "Train Epoch: 4 [20000/60000 (33%)]\tLoss: 0.330412\n",
      "Train Epoch: 4 [30000/60000 (50%)]\tLoss: 0.284370\n",
      "Train Epoch: 4 [40000/60000 (67%)]\tLoss: 0.273603\n",
      "Train Epoch: 4 [50000/60000 (83%)]\tLoss: 0.248031\n",
      "Train Epoch: 5 [0/60000 (0%)]\tLoss: 0.256604\n",
      "Train Epoch: 5 [10000/60000 (17%)]\tLoss: 0.308720\n",
      "Train Epoch: 5 [20000/60000 (33%)]\tLoss: 0.291866\n",
      "Train Epoch: 5 [30000/60000 (50%)]\tLoss: 0.312223\n",
      "Train Epoch: 5 [40000/60000 (67%)]\tLoss: 0.294348\n",
      "Train Epoch: 5 [50000/60000 (83%)]\tLoss: 0.227546\n",
      "Train Epoch: 6 [0/60000 (0%)]\tLoss: 0.284733\n",
      "Train Epoch: 6 [10000/60000 (17%)]\tLoss: 0.251360\n",
      "Train Epoch: 6 [20000/60000 (33%)]\tLoss: 0.256166\n",
      "Train Epoch: 6 [30000/60000 (50%)]\tLoss: 0.250769\n",
      "Train Epoch: 6 [40000/60000 (67%)]\tLoss: 0.282261\n",
      "Train Epoch: 6 [50000/60000 (83%)]\tLoss: 0.273927\n",
      "Train Epoch: 7 [0/60000 (0%)]\tLoss: 0.255648\n",
      "Train Epoch: 7 [10000/60000 (17%)]\tLoss: 0.282559\n",
      "Train Epoch: 7 [20000/60000 (33%)]\tLoss: 0.262026\n",
      "Train Epoch: 7 [30000/60000 (50%)]\tLoss: 0.288494\n",
      "Train Epoch: 7 [40000/60000 (67%)]\tLoss: 0.244687\n",
      "Train Epoch: 7 [50000/60000 (83%)]\tLoss: 0.244053\n",
      "Train Epoch: 8 [0/60000 (0%)]\tLoss: 0.258935\n",
      "Train Epoch: 8 [10000/60000 (17%)]\tLoss: 0.214306\n",
      "Train Epoch: 8 [20000/60000 (33%)]\tLoss: 0.225618\n",
      "Train Epoch: 8 [30000/60000 (50%)]\tLoss: 0.235422\n",
      "Train Epoch: 8 [40000/60000 (67%)]\tLoss: 0.234838\n",
      "Train Epoch: 8 [50000/60000 (83%)]\tLoss: 0.229030\n",
      "Train Epoch: 9 [0/60000 (0%)]\tLoss: 0.224254\n",
      "Train Epoch: 9 [10000/60000 (17%)]\tLoss: 0.239574\n",
      "Train Epoch: 9 [20000/60000 (33%)]\tLoss: 0.264464\n",
      "Train Epoch: 9 [30000/60000 (50%)]\tLoss: 0.265957\n",
      "Train Epoch: 9 [40000/60000 (67%)]\tLoss: 0.185309\n",
      "Train Epoch: 9 [50000/60000 (83%)]\tLoss: 0.234827\n",
      "Train Epoch: 10 [0/60000 (0%)]\tLoss: 0.239139\n",
      "Train Epoch: 10 [10000/60000 (17%)]\tLoss: 0.216897\n",
      "Train Epoch: 10 [20000/60000 (33%)]\tLoss: 0.188934\n",
      "Train Epoch: 10 [30000/60000 (50%)]\tLoss: 0.223595\n",
      "Train Epoch: 10 [40000/60000 (67%)]\tLoss: 0.224984\n",
      "Train Epoch: 10 [50000/60000 (83%)]\tLoss: 0.244098\n",
      "Train Epoch: 11 [0/60000 (0%)]\tLoss: 0.198767\n",
      "Train Epoch: 11 [10000/60000 (17%)]\tLoss: 0.203176\n",
      "Train Epoch: 11 [20000/60000 (33%)]\tLoss: 0.196871\n",
      "Train Epoch: 11 [30000/60000 (50%)]\tLoss: 0.222639\n",
      "Train Epoch: 11 [40000/60000 (67%)]\tLoss: 0.235665\n",
      "Train Epoch: 11 [50000/60000 (83%)]\tLoss: 0.227802\n",
      "Train Epoch: 12 [0/60000 (0%)]\tLoss: 0.196813\n",
      "Train Epoch: 12 [10000/60000 (17%)]\tLoss: 0.224825\n",
      "Train Epoch: 12 [20000/60000 (33%)]\tLoss: 0.193906\n",
      "Train Epoch: 12 [30000/60000 (50%)]\tLoss: 0.239708\n",
      "Train Epoch: 12 [40000/60000 (67%)]\tLoss: 0.196460\n",
      "Train Epoch: 12 [50000/60000 (83%)]\tLoss: 0.191574\n",
      "Train Epoch: 13 [0/60000 (0%)]\tLoss: 0.196601\n",
      "Train Epoch: 13 [10000/60000 (17%)]\tLoss: 0.215223\n",
      "Train Epoch: 13 [20000/60000 (33%)]\tLoss: 0.179678\n",
      "Train Epoch: 13 [30000/60000 (50%)]\tLoss: 0.195953\n",
      "Train Epoch: 13 [40000/60000 (67%)]\tLoss: 0.200081\n",
      "Train Epoch: 13 [50000/60000 (83%)]\tLoss: 0.204309\n",
      "Train Epoch: 14 [0/60000 (0%)]\tLoss: 0.191994\n",
      "Train Epoch: 14 [10000/60000 (17%)]\tLoss: 0.188573\n",
      "Train Epoch: 14 [20000/60000 (33%)]\tLoss: 0.167512\n",
      "Train Epoch: 14 [30000/60000 (50%)]\tLoss: 0.198438\n",
      "Train Epoch: 14 [40000/60000 (67%)]\tLoss: 0.152663\n",
      "Train Epoch: 14 [50000/60000 (83%)]\tLoss: 0.211186\n",
      "Train Epoch: 15 [0/60000 (0%)]\tLoss: 0.185727\n",
      "Train Epoch: 15 [10000/60000 (17%)]\tLoss: 0.189869\n",
      "Train Epoch: 15 [20000/60000 (33%)]\tLoss: 0.173565\n",
      "Train Epoch: 15 [30000/60000 (50%)]\tLoss: 0.180618\n",
      "Train Epoch: 15 [40000/60000 (67%)]\tLoss: 0.177068\n",
      "Train Epoch: 15 [50000/60000 (83%)]\tLoss: 0.201540\n",
      "Train Epoch: 16 [0/60000 (0%)]\tLoss: 0.157348\n",
      "Train Epoch: 16 [10000/60000 (17%)]\tLoss: 0.181757\n",
      "Train Epoch: 16 [20000/60000 (33%)]\tLoss: 0.180213\n",
      "Train Epoch: 16 [30000/60000 (50%)]\tLoss: 0.166746\n",
      "Train Epoch: 16 [40000/60000 (67%)]\tLoss: 0.181139\n",
      "Train Epoch: 16 [50000/60000 (83%)]\tLoss: 0.196296\n",
      "Train Epoch: 17 [0/60000 (0%)]\tLoss: 0.167818\n",
      "Train Epoch: 17 [10000/60000 (17%)]\tLoss: 0.156827\n",
      "Train Epoch: 17 [20000/60000 (33%)]\tLoss: 0.177144\n",
      "Train Epoch: 17 [30000/60000 (50%)]\tLoss: 0.176668\n",
      "Train Epoch: 17 [40000/60000 (67%)]\tLoss: 0.162817\n",
      "Train Epoch: 17 [50000/60000 (83%)]\tLoss: 0.156750\n",
      "Train Epoch: 18 [0/60000 (0%)]\tLoss: 0.184547\n",
      "Train Epoch: 18 [10000/60000 (17%)]\tLoss: 0.143001\n",
      "Train Epoch: 18 [20000/60000 (33%)]\tLoss: 0.172809\n",
      "Train Epoch: 18 [30000/60000 (50%)]\tLoss: 0.144822\n",
      "Train Epoch: 18 [40000/60000 (67%)]\tLoss: 0.202201\n",
      "Train Epoch: 18 [50000/60000 (83%)]\tLoss: 0.157123\n",
      "Train Epoch: 19 [0/60000 (0%)]\tLoss: 0.165094\n",
      "Train Epoch: 19 [10000/60000 (17%)]\tLoss: 0.183001\n",
      "Train Epoch: 19 [20000/60000 (33%)]\tLoss: 0.165619\n",
      "Train Epoch: 19 [30000/60000 (50%)]\tLoss: 0.141650\n",
      "Train Epoch: 19 [40000/60000 (67%)]\tLoss: 0.169466\n",
      "Train Epoch: 19 [50000/60000 (83%)]\tLoss: 0.161011\n",
      "Train Epoch: 20 [0/60000 (0%)]\tLoss: 0.126618\n",
      "Train Epoch: 20 [10000/60000 (17%)]\tLoss: 0.148432\n",
      "Train Epoch: 20 [20000/60000 (33%)]\tLoss: 0.152002\n",
      "Train Epoch: 20 [30000/60000 (50%)]\tLoss: 0.143236\n",
      "Train Epoch: 20 [40000/60000 (67%)]\tLoss: 0.191937\n",
      "Train Epoch: 20 [50000/60000 (83%)]\tLoss: 0.139207\n",
      "Train Epoch: 21 [0/60000 (0%)]\tLoss: 0.164278\n",
      "Train Epoch: 21 [10000/60000 (17%)]\tLoss: 0.145410\n",
      "Train Epoch: 21 [20000/60000 (33%)]\tLoss: 0.137167\n",
      "Train Epoch: 21 [30000/60000 (50%)]\tLoss: 0.125447\n",
      "Train Epoch: 21 [40000/60000 (67%)]\tLoss: 0.157248\n",
      "Train Epoch: 21 [50000/60000 (83%)]\tLoss: 0.129131\n",
      "Train Epoch: 22 [0/60000 (0%)]\tLoss: 0.157419\n",
      "Train Epoch: 22 [10000/60000 (17%)]\tLoss: 0.148050\n",
      "Train Epoch: 22 [20000/60000 (33%)]\tLoss: 0.143221\n",
      "Train Epoch: 22 [30000/60000 (50%)]\tLoss: 0.158326\n",
      "Train Epoch: 22 [40000/60000 (67%)]\tLoss: 0.146880\n",
      "Train Epoch: 22 [50000/60000 (83%)]\tLoss: 0.115499\n",
      "Train Epoch: 23 [0/60000 (0%)]\tLoss: 0.116425\n",
      "Train Epoch: 23 [10000/60000 (17%)]\tLoss: 0.131130\n",
      "Train Epoch: 23 [20000/60000 (33%)]\tLoss: 0.127361\n",
      "Train Epoch: 23 [30000/60000 (50%)]\tLoss: 0.128874\n",
      "Train Epoch: 23 [40000/60000 (67%)]\tLoss: 0.137860\n",
      "Train Epoch: 23 [50000/60000 (83%)]\tLoss: 0.154476\n",
      "Train Epoch: 24 [0/60000 (0%)]\tLoss: 0.146641\n",
      "Train Epoch: 24 [10000/60000 (17%)]\tLoss: 0.137278\n",
      "Train Epoch: 24 [20000/60000 (33%)]\tLoss: 0.132223\n",
      "Train Epoch: 24 [30000/60000 (50%)]\tLoss: 0.149553\n",
      "Train Epoch: 24 [40000/60000 (67%)]\tLoss: 0.160392\n",
      "Train Epoch: 24 [50000/60000 (83%)]\tLoss: 0.158019\n",
      "Train Epoch: 25 [0/60000 (0%)]\tLoss: 0.145781\n",
      "Train Epoch: 25 [10000/60000 (17%)]\tLoss: 0.141626\n",
      "Train Epoch: 25 [20000/60000 (33%)]\tLoss: 0.143655\n",
      "Train Epoch: 25 [30000/60000 (50%)]\tLoss: 0.154106\n",
      "Train Epoch: 25 [40000/60000 (67%)]\tLoss: 0.144113\n",
      "Train Epoch: 25 [50000/60000 (83%)]\tLoss: 0.099579\n",
      "Train Epoch: 26 [0/60000 (0%)]\tLoss: 0.133767\n",
      "Train Epoch: 26 [10000/60000 (17%)]\tLoss: 0.128884\n",
      "Train Epoch: 26 [20000/60000 (33%)]\tLoss: 0.098905\n",
      "Train Epoch: 26 [30000/60000 (50%)]\tLoss: 0.140373\n",
      "Train Epoch: 26 [40000/60000 (67%)]\tLoss: 0.130184\n",
      "Train Epoch: 26 [50000/60000 (83%)]\tLoss: 0.124344\n",
      "Train Epoch: 27 [0/60000 (0%)]\tLoss: 0.142241\n",
      "Train Epoch: 27 [10000/60000 (17%)]\tLoss: 0.112203\n",
      "Train Epoch: 27 [20000/60000 (33%)]\tLoss: 0.123242\n",
      "Train Epoch: 27 [30000/60000 (50%)]\tLoss: 0.109305\n",
      "Train Epoch: 27 [40000/60000 (67%)]\tLoss: 0.135860\n",
      "Train Epoch: 27 [50000/60000 (83%)]\tLoss: 0.111152\n",
      "Train Epoch: 28 [0/60000 (0%)]\tLoss: 0.121893\n",
      "Train Epoch: 28 [10000/60000 (17%)]\tLoss: 0.120949\n",
      "Train Epoch: 28 [20000/60000 (33%)]\tLoss: 0.110622\n"
     ]
    },
    {
     "name": "stdout",
     "output_type": "stream",
     "text": [
      "Train Epoch: 28 [30000/60000 (50%)]\tLoss: 0.130084\n",
      "Train Epoch: 28 [40000/60000 (67%)]\tLoss: 0.117223\n",
      "Train Epoch: 28 [50000/60000 (83%)]\tLoss: 0.112890\n",
      "Train Epoch: 29 [0/60000 (0%)]\tLoss: 0.106545\n",
      "Train Epoch: 29 [10000/60000 (17%)]\tLoss: 0.138326\n",
      "Train Epoch: 29 [20000/60000 (33%)]\tLoss: 0.140573\n",
      "Train Epoch: 29 [30000/60000 (50%)]\tLoss: 0.110409\n",
      "Train Epoch: 29 [40000/60000 (67%)]\tLoss: 0.126531\n",
      "Train Epoch: 29 [50000/60000 (83%)]\tLoss: 0.110660\n",
      "Train Epoch: 30 [0/60000 (0%)]\tLoss: 0.083104\n",
      "Train Epoch: 30 [10000/60000 (17%)]\tLoss: 0.133573\n",
      "Train Epoch: 30 [20000/60000 (33%)]\tLoss: 0.122839\n",
      "Train Epoch: 30 [30000/60000 (50%)]\tLoss: 0.116113\n",
      "Train Epoch: 30 [40000/60000 (67%)]\tLoss: 0.107554\n",
      "Train Epoch: 30 [50000/60000 (83%)]\tLoss: 0.102511\n",
      "\n",
      "Average loss: 0.2338, Accuracy: 9247/10000 (92.4700%)\n",
      "\n",
      "final test acc 92.47\n"
     ]
    }
   ],
   "source": [
    "for epoch in range(1, args.epochs + 1):\n",
    "  train(epoch, model, train_loader)\n",
    "\n",
    "eval_acc = evaluate(model, test_loader)\n",
    "print('final test acc', eval_acc * 100.)"
   ]
  },
  {
   "cell_type": "code",
   "execution_count": 15,
   "metadata": {},
   "outputs": [
    {
     "name": "stdout",
     "output_type": "stream",
     "text": [
      "torch.Size([32, 1, 5, 5])\n",
      "torch.Size([32])\n",
      "torch.Size([64, 32, 5, 5])\n",
      "torch.Size([64])\n",
      "torch.Size([10, 3136])\n",
      "torch.Size([10])\n",
      "83466\n"
     ]
    }
   ],
   "source": [
    "param_count = 0\n",
    "for param in model.parameters():\n",
    "  print(param.data.shape)\n",
    "  param_count += np.product(param.data.shape)\n",
    "print(param_count)"
   ]
  },
  {
   "cell_type": "code",
   "execution_count": 16,
   "metadata": {},
   "outputs": [],
   "source": [
    "final_params = []\n",
    "for param in model.parameters():\n",
    "  final_params.append(param.data.cpu().numpy().flatten())\n",
    "final_params_flat = np.concatenate(final_params)"
   ]
  },
  {
   "cell_type": "code",
   "execution_count": 17,
   "metadata": {},
   "outputs": [
    {
     "data": {
      "image/png": "[encoded data removed]",
      "text/plain": [
       "<matplotlib.figure.Figure at 0x7f2fc65a2198>"
      ]
     },
     "metadata": {},
     "output_type": "display_data"
    }
   ],
   "source": [
    "_ = plt.hist(final_params_flat, bins=200)\n",
    "plt.show()"
   ]
  },
  {
   "cell_type": "code",
   "execution_count": 18,
   "metadata": {
    "collapsed": true
   },
   "outputs": [],
   "source": [
    "def get_random_data(data_loader, num=10):\n",
    "  random_data = []\n",
    "  for batch_idx, (data, target) in enumerate(data_loader):\n",
    "    random_data.append((data[np.random.randint(0, 1000)]).numpy().reshape(28, 28))\n",
    "    if len(random_data) > num:\n",
    "      break\n",
    "  return random_data\n",
    "\n",
    "def display_data(random_data):\n",
    "  for img in random_data:\n",
    "    _ = plt.subplots(figsize=(1, 1))\n",
    "    plt.imshow(1.0-img, cmap='gray')\n",
    "    plt.show()"
   ]
  },
  {
   "cell_type": "code",
   "execution_count": 19,
   "metadata": {},
   "outputs": [],
   "source": [
    "random_train_data = get_random_data(train_loader)\n",
    "random_test_data = get_random_data(test_loader)"
   ]
  },
  {
   "cell_type": "code",
   "execution_count": 20,
   "metadata": {},
   "outputs": [
    {
     "data": {
      "image/png": "[encoded data removed]",
      "text/plain": [
       "<matplotlib.figure.Figure at 0x7f2fcd0b7d30>"
      ]
     },
     "metadata": {},
     "output_type": "display_data"
    },
    {
     "data": {
      "image/png": "[encoded data removed]",
      "text/plain": [
       "<matplotlib.figure.Figure at 0x7f305434f1d0>"
      ]
     },
     "metadata": {},
     "output_type": "display_data"
    },
    {
     "data": {
      "image/png": "[encoded data removed]",
      "text/plain": [
       "<matplotlib.figure.Figure at 0x7f3071f609b0>"
      ]
     },
     "metadata": {},
     "output_type": "display_data"
    },
    {
     "data": {
      "image/png": "[encoded data removed]",
      "text/plain": [
       "<matplotlib.figure.Figure at 0x7f305426a390>"
      ]
     },
     "metadata": {},
     "output_type": "display_data"
    },
    {
     "data": {
      "image/png": "[encoded data removed]",
      "text/plain": [
       "<matplotlib.figure.Figure at 0x7f30541fa668>"
      ]
     },
     "metadata": {},
     "output_type": "display_data"
    },
    {
     "data": {
      "image/png": "[encoded data removed]",
      "text/plain": [
       "<matplotlib.figure.Figure at 0x7f305420b4e0>"
      ]
     },
     "metadata": {},
     "output_type": "display_data"
    },
    {
     "data": {
      "image/png": "[encoded data removed]",
      "text/plain": [
       "<matplotlib.figure.Figure at 0x7f2fcc7e0cf8>"
      ]
     },
     "metadata": {},
     "output_type": "display_data"
    },
    {
     "data": {
      "image/png": "[encoded data removed]",
      "text/plain": [
       "<matplotlib.figure.Figure at 0x7f3054339a90>"
      ]
     },
     "metadata": {},
     "output_type": "display_data"
    },
    {
     "data": {
      "image/png": "[encoded data removed]",
      "text/plain": [
       "<matplotlib.figure.Figure at 0x7f2fc6dfc3c8>"
      ]
     },
     "metadata": {},
     "output_type": "display_data"
    },
    {
     "data": {
      "image/png": "[encoded data removed]",
      "text/plain": [
       "<matplotlib.figure.Figure at 0x7f2fc6d5e748>"
      ]
     },
     "metadata": {},
     "output_type": "display_data"
    },
    {
     "data": {
      "image/png": "[encoded data removed]",
      "text/plain": [
       "<matplotlib.figure.Figure at 0x7f2fc6ceb518>"
      ]
     },
     "metadata": {},
     "output_type": "display_data"
    }
   ],
   "source": [
    "display_data(random_train_data)"
   ]
  },
  {
   "cell_type": "code",
   "execution_count": 21,
   "metadata": {},
   "outputs": [
    {
     "data": {
      "image/png": "[encoded data removed]",
      "text/plain": [
       "<matplotlib.figure.Figure at 0x7f2fc6c4f780>"
      ]
     },
     "metadata": {},
     "output_type": "display_data"
    },
    {
     "data": {
      "image/png": "[encoded data removed]",
      "text/plain": [
       "<matplotlib.figure.Figure at 0x7f2fcc7ebc18>"
      ]
     },
     "metadata": {},
     "output_type": "display_data"
    },
    {
     "data": {
      "image/png": "[encoded data removed]",
      "text/plain": [
       "<matplotlib.figure.Figure at 0x7f2fc6c57080>"
      ]
     },
     "metadata": {},
     "output_type": "display_data"
    },
    {
     "data": {
      "image/png": "[encoded data removed]",
      "text/plain": [
       "<matplotlib.figure.Figure at 0x7f2fc6bda048>"
      ]
     },
     "metadata": {},
     "output_type": "display_data"
    },
    {
     "data": {
      "image/png": "[encoded data removed]",
      "text/plain": [
       "<matplotlib.figure.Figure at 0x7f2fc6dca2e8>"
      ]
     },
     "metadata": {},
     "output_type": "display_data"
    },
    {
     "data": {
      "image/png": "[encoded data removed]",
      "text/plain": [
       "<matplotlib.figure.Figure at 0x7f3071f57780>"
      ]
     },
     "metadata": {},
     "output_type": "display_data"
    },
    {
     "data": {
      "image/png": "[encoded data removed]",
      "text/plain": [
       "<matplotlib.figure.Figure at 0x7f2fc6cf0978>"
      ]
     },
     "metadata": {},
     "output_type": "display_data"
    },
    {
     "data": {
      "image/png": "[encoded data removed]",
      "text/plain": [
       "<matplotlib.figure.Figure at 0x7f2fc6bccc50>"
      ]
     },
     "metadata": {},
     "output_type": "display_data"
    },
    {
     "data": {
      "image/png": "[encoded data removed]",
      "text/plain": [
       "<matplotlib.figure.Figure at 0x7f305422e160>"
      ]
     },
     "metadata": {},
     "output_type": "display_data"
    },
    {
     "data": {
      "image/png": "[encoded data removed]",
      "text/plain": [
       "<matplotlib.figure.Figure at 0x7f2fc6df7518>"
      ]
     },
     "metadata": {},
     "output_type": "display_data"
    }
   ],
   "source": [
    "display_data(random_test_data)"
   ]
  },
  {
   "cell_type": "code",
   "execution_count": null,
   "metadata": {
    "collapsed": true
   },
   "outputs": [],
   "source": []
  }
 ],
 "metadata": {
  "kernelspec": {
   "display_name": "Python 3",
   "language": "python",
   "name": "python3"
  },
  "language_info": {
   "codemirror_mode": {
    "name": "ipython",
    "version": 3
   },
   "file_extension": ".py",
   "mimetype": "text/x-python",
   "name": "python",
   "nbconvert_exporter": "python",
   "pygments_lexer": "ipython3",
   "version": "3.6.1"
  }
 },
 "nbformat": 4,
 "nbformat_minor": 2
}
